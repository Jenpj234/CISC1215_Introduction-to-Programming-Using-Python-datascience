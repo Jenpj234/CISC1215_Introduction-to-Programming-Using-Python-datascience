{
 "cells": [
  {
   "cell_type": "markdown",
   "id": "45e299ed-df67-4bd0-8e8a-55595d8ec1fc",
   "metadata": {},
   "source": [
    "# CISC 1215 - Introduction to Programming Using Python\n",
    "## Project Assignment\n",
    "### Part A: Read-in and Exploratory Data Analysis"
   ]
  },
  {
   "cell_type": "markdown",
   "id": "cdcb50a0-98fd-4d29-a761-18eb8af0dbc8",
   "metadata": {},
   "source": [
    "#### 1. Data Loading & Initial Inspection (10 pts)"
   ]
  },
  {
   "cell_type": "markdown",
   "id": "95911b99-dd51-4783-be2f-92257de369b0",
   "metadata": {},
   "source": [
    "To load the dataset using pandas, we first must install it on our computer. Once installed, we import the library into our jupyter notebook. We then initialize the data frame using the .read_csv() method.\n",
    "\n",
    "If we want to specifically showcase the first 5 rows of the csv file, we use .head() with the value of 5 as the parameter."
   ]
  },
  {
   "cell_type": "code",
   "execution_count": 77,
   "id": "1e089695-cf28-452d-8d98-92aed1aa8477",
   "metadata": {},
   "outputs": [
    {
     "data": {
      "text/html": [
       "<div>\n",
       "<style scoped>\n",
       "    .dataframe tbody tr th:only-of-type {\n",
       "        vertical-align: middle;\n",
       "    }\n",
       "\n",
       "    .dataframe tbody tr th {\n",
       "        vertical-align: top;\n",
       "    }\n",
       "\n",
       "    .dataframe thead th {\n",
       "        text-align: right;\n",
       "    }\n",
       "</style>\n",
       "<table border=\"1\" class=\"dataframe\">\n",
       "  <thead>\n",
       "    <tr style=\"text-align: right;\">\n",
       "      <th></th>\n",
       "      <th>Row ID</th>\n",
       "      <th>Order ID</th>\n",
       "      <th>Order Date</th>\n",
       "      <th>Ship Date</th>\n",
       "      <th>Ship Mode</th>\n",
       "      <th>Customer ID</th>\n",
       "      <th>Customer Name</th>\n",
       "      <th>Segment</th>\n",
       "      <th>Country</th>\n",
       "      <th>City</th>\n",
       "      <th>...</th>\n",
       "      <th>Postal Code</th>\n",
       "      <th>Region</th>\n",
       "      <th>Product ID</th>\n",
       "      <th>Category</th>\n",
       "      <th>Sub-Category</th>\n",
       "      <th>Product Name</th>\n",
       "      <th>Sales</th>\n",
       "      <th>Quantity</th>\n",
       "      <th>Discount</th>\n",
       "      <th>Profit</th>\n",
       "    </tr>\n",
       "  </thead>\n",
       "  <tbody>\n",
       "    <tr>\n",
       "      <th>0</th>\n",
       "      <td>1</td>\n",
       "      <td>CA-2016-152156</td>\n",
       "      <td>11/8/2016</td>\n",
       "      <td>11/11/2016</td>\n",
       "      <td>Second Class</td>\n",
       "      <td>CG-12520</td>\n",
       "      <td>Claire Gute</td>\n",
       "      <td>Consumer</td>\n",
       "      <td>United States</td>\n",
       "      <td>Henderson</td>\n",
       "      <td>...</td>\n",
       "      <td>42420</td>\n",
       "      <td>South</td>\n",
       "      <td>FUR-BO-10001798</td>\n",
       "      <td>Furniture</td>\n",
       "      <td>Bookcases</td>\n",
       "      <td>Bush Somerset Collection Bookcase</td>\n",
       "      <td>261.9600</td>\n",
       "      <td>2</td>\n",
       "      <td>0.00</td>\n",
       "      <td>41.9136</td>\n",
       "    </tr>\n",
       "    <tr>\n",
       "      <th>1</th>\n",
       "      <td>2</td>\n",
       "      <td>CA-2016-152156</td>\n",
       "      <td>11/8/2016</td>\n",
       "      <td>11/11/2016</td>\n",
       "      <td>Second Class</td>\n",
       "      <td>CG-12520</td>\n",
       "      <td>Claire Gute</td>\n",
       "      <td>Consumer</td>\n",
       "      <td>United States</td>\n",
       "      <td>Henderson</td>\n",
       "      <td>...</td>\n",
       "      <td>42420</td>\n",
       "      <td>South</td>\n",
       "      <td>FUR-CH-10000454</td>\n",
       "      <td>Furniture</td>\n",
       "      <td>Chairs</td>\n",
       "      <td>Hon Deluxe Fabric Upholstered Stacking Chairs,...</td>\n",
       "      <td>731.9400</td>\n",
       "      <td>3</td>\n",
       "      <td>0.00</td>\n",
       "      <td>219.5820</td>\n",
       "    </tr>\n",
       "    <tr>\n",
       "      <th>2</th>\n",
       "      <td>3</td>\n",
       "      <td>CA-2016-138688</td>\n",
       "      <td>6/12/2016</td>\n",
       "      <td>6/16/2016</td>\n",
       "      <td>Second Class</td>\n",
       "      <td>DV-13045</td>\n",
       "      <td>Darrin Van Huff</td>\n",
       "      <td>Corporate</td>\n",
       "      <td>United States</td>\n",
       "      <td>Los Angeles</td>\n",
       "      <td>...</td>\n",
       "      <td>90036</td>\n",
       "      <td>West</td>\n",
       "      <td>OFF-LA-10000240</td>\n",
       "      <td>Office Supplies</td>\n",
       "      <td>Labels</td>\n",
       "      <td>Self-Adhesive Address Labels for Typewriters b...</td>\n",
       "      <td>14.6200</td>\n",
       "      <td>2</td>\n",
       "      <td>0.00</td>\n",
       "      <td>6.8714</td>\n",
       "    </tr>\n",
       "    <tr>\n",
       "      <th>3</th>\n",
       "      <td>4</td>\n",
       "      <td>US-2015-108966</td>\n",
       "      <td>10/11/2015</td>\n",
       "      <td>10/18/2015</td>\n",
       "      <td>Standard Class</td>\n",
       "      <td>SO-20335</td>\n",
       "      <td>Sean O'Donnell</td>\n",
       "      <td>Consumer</td>\n",
       "      <td>United States</td>\n",
       "      <td>Fort Lauderdale</td>\n",
       "      <td>...</td>\n",
       "      <td>33311</td>\n",
       "      <td>South</td>\n",
       "      <td>FUR-TA-10000577</td>\n",
       "      <td>Furniture</td>\n",
       "      <td>Tables</td>\n",
       "      <td>Bretford CR4500 Series Slim Rectangular Table</td>\n",
       "      <td>957.5775</td>\n",
       "      <td>5</td>\n",
       "      <td>0.45</td>\n",
       "      <td>-383.0310</td>\n",
       "    </tr>\n",
       "    <tr>\n",
       "      <th>4</th>\n",
       "      <td>5</td>\n",
       "      <td>US-2015-108966</td>\n",
       "      <td>10/11/2015</td>\n",
       "      <td>10/18/2015</td>\n",
       "      <td>Standard Class</td>\n",
       "      <td>SO-20335</td>\n",
       "      <td>Sean O'Donnell</td>\n",
       "      <td>Consumer</td>\n",
       "      <td>United States</td>\n",
       "      <td>Fort Lauderdale</td>\n",
       "      <td>...</td>\n",
       "      <td>33311</td>\n",
       "      <td>South</td>\n",
       "      <td>OFF-ST-10000760</td>\n",
       "      <td>Office Supplies</td>\n",
       "      <td>Storage</td>\n",
       "      <td>Eldon Fold 'N Roll Cart System</td>\n",
       "      <td>22.3680</td>\n",
       "      <td>2</td>\n",
       "      <td>0.20</td>\n",
       "      <td>2.5164</td>\n",
       "    </tr>\n",
       "  </tbody>\n",
       "</table>\n",
       "<p>5 rows × 21 columns</p>\n",
       "</div>"
      ],
      "text/plain": [
       "   Row ID        Order ID  Order Date   Ship Date       Ship Mode Customer ID  \\\n",
       "0       1  CA-2016-152156   11/8/2016  11/11/2016    Second Class    CG-12520   \n",
       "1       2  CA-2016-152156   11/8/2016  11/11/2016    Second Class    CG-12520   \n",
       "2       3  CA-2016-138688   6/12/2016   6/16/2016    Second Class    DV-13045   \n",
       "3       4  US-2015-108966  10/11/2015  10/18/2015  Standard Class    SO-20335   \n",
       "4       5  US-2015-108966  10/11/2015  10/18/2015  Standard Class    SO-20335   \n",
       "\n",
       "     Customer Name    Segment        Country             City  ...  \\\n",
       "0      Claire Gute   Consumer  United States        Henderson  ...   \n",
       "1      Claire Gute   Consumer  United States        Henderson  ...   \n",
       "2  Darrin Van Huff  Corporate  United States      Los Angeles  ...   \n",
       "3   Sean O'Donnell   Consumer  United States  Fort Lauderdale  ...   \n",
       "4   Sean O'Donnell   Consumer  United States  Fort Lauderdale  ...   \n",
       "\n",
       "  Postal Code  Region       Product ID         Category Sub-Category  \\\n",
       "0       42420   South  FUR-BO-10001798        Furniture    Bookcases   \n",
       "1       42420   South  FUR-CH-10000454        Furniture       Chairs   \n",
       "2       90036    West  OFF-LA-10000240  Office Supplies       Labels   \n",
       "3       33311   South  FUR-TA-10000577        Furniture       Tables   \n",
       "4       33311   South  OFF-ST-10000760  Office Supplies      Storage   \n",
       "\n",
       "                                        Product Name     Sales  Quantity  \\\n",
       "0                  Bush Somerset Collection Bookcase  261.9600         2   \n",
       "1  Hon Deluxe Fabric Upholstered Stacking Chairs,...  731.9400         3   \n",
       "2  Self-Adhesive Address Labels for Typewriters b...   14.6200         2   \n",
       "3      Bretford CR4500 Series Slim Rectangular Table  957.5775         5   \n",
       "4                     Eldon Fold 'N Roll Cart System   22.3680         2   \n",
       "\n",
       "   Discount    Profit  \n",
       "0      0.00   41.9136  \n",
       "1      0.00  219.5820  \n",
       "2      0.00    6.8714  \n",
       "3      0.45 -383.0310  \n",
       "4      0.20    2.5164  \n",
       "\n",
       "[5 rows x 21 columns]"
      ]
     },
     "execution_count": 77,
     "metadata": {},
     "output_type": "execute_result"
    }
   ],
   "source": [
    "import pandas as pd\n",
    "df = pd.read_csv('Superstore.csv', encoding='cp1252')  # Common for Windows CSVs\n",
    "df.head(5)"
   ]
  },
  {
   "cell_type": "markdown",
   "id": "4a0f103a-0a1f-453b-8bf4-d2c8f704b2a5",
   "metadata": {},
   "source": [
    "To display the shape (rows, columns) of the data set, simply call the .shape method."
   ]
  },
  {
   "cell_type": "code",
   "execution_count": 12,
   "id": "6a3120b9-7f89-4e79-ba2a-78b6ca2c1aa3",
   "metadata": {},
   "outputs": [
    {
     "data": {
      "text/plain": [
       "(9994, 21)"
      ]
     },
     "execution_count": 12,
     "metadata": {},
     "output_type": "execute_result"
    }
   ],
   "source": [
    "df.shape"
   ]
  },
  {
   "cell_type": "markdown",
   "id": "8e50bea5-e51a-46c4-b4d0-34998033bc13",
   "metadata": {},
   "source": [
    "If you want to find the data types of each of the columns, use the .dtypes function."
   ]
  },
  {
   "cell_type": "code",
   "execution_count": 13,
   "id": "b616fdb9-e60b-4cec-88cf-d148b4c0e32a",
   "metadata": {},
   "outputs": [
    {
     "data": {
      "text/plain": [
       "Row ID             int64\n",
       "Order ID          object\n",
       "Order Date        object\n",
       "Ship Date         object\n",
       "Ship Mode         object\n",
       "Customer ID       object\n",
       "Customer Name     object\n",
       "Segment           object\n",
       "Country           object\n",
       "City              object\n",
       "State             object\n",
       "Postal Code        int64\n",
       "Region            object\n",
       "Product ID        object\n",
       "Category          object\n",
       "Sub-Category      object\n",
       "Product Name      object\n",
       "Sales            float64\n",
       "Quantity           int64\n",
       "Discount         float64\n",
       "Profit           float64\n",
       "dtype: object"
      ]
     },
     "execution_count": 13,
     "metadata": {},
     "output_type": "execute_result"
    }
   ],
   "source": [
    "df.dtypes"
   ]
  },
  {
   "cell_type": "markdown",
   "id": "b8bbb447-93c0-4a08-9526-cf37673581f7",
   "metadata": {},
   "source": [
    "Want a quick summary statistics, call the .describe() method to stay informed."
   ]
  },
  {
   "cell_type": "code",
   "execution_count": 14,
   "id": "5bccaf52-85d4-4424-9bab-1072553b152f",
   "metadata": {},
   "outputs": [
    {
     "data": {
      "text/html": [
       "<div>\n",
       "<style scoped>\n",
       "    .dataframe tbody tr th:only-of-type {\n",
       "        vertical-align: middle;\n",
       "    }\n",
       "\n",
       "    .dataframe tbody tr th {\n",
       "        vertical-align: top;\n",
       "    }\n",
       "\n",
       "    .dataframe thead th {\n",
       "        text-align: right;\n",
       "    }\n",
       "</style>\n",
       "<table border=\"1\" class=\"dataframe\">\n",
       "  <thead>\n",
       "    <tr style=\"text-align: right;\">\n",
       "      <th></th>\n",
       "      <th>Row ID</th>\n",
       "      <th>Postal Code</th>\n",
       "      <th>Sales</th>\n",
       "      <th>Quantity</th>\n",
       "      <th>Discount</th>\n",
       "      <th>Profit</th>\n",
       "    </tr>\n",
       "  </thead>\n",
       "  <tbody>\n",
       "    <tr>\n",
       "      <th>count</th>\n",
       "      <td>9994.000000</td>\n",
       "      <td>9994.000000</td>\n",
       "      <td>9994.000000</td>\n",
       "      <td>9994.000000</td>\n",
       "      <td>9994.000000</td>\n",
       "      <td>9994.000000</td>\n",
       "    </tr>\n",
       "    <tr>\n",
       "      <th>mean</th>\n",
       "      <td>4997.500000</td>\n",
       "      <td>55190.379428</td>\n",
       "      <td>229.858001</td>\n",
       "      <td>3.789574</td>\n",
       "      <td>0.156203</td>\n",
       "      <td>28.656896</td>\n",
       "    </tr>\n",
       "    <tr>\n",
       "      <th>std</th>\n",
       "      <td>2885.163629</td>\n",
       "      <td>32063.693350</td>\n",
       "      <td>623.245101</td>\n",
       "      <td>2.225110</td>\n",
       "      <td>0.206452</td>\n",
       "      <td>234.260108</td>\n",
       "    </tr>\n",
       "    <tr>\n",
       "      <th>min</th>\n",
       "      <td>1.000000</td>\n",
       "      <td>1040.000000</td>\n",
       "      <td>0.444000</td>\n",
       "      <td>1.000000</td>\n",
       "      <td>0.000000</td>\n",
       "      <td>-6599.978000</td>\n",
       "    </tr>\n",
       "    <tr>\n",
       "      <th>25%</th>\n",
       "      <td>2499.250000</td>\n",
       "      <td>23223.000000</td>\n",
       "      <td>17.280000</td>\n",
       "      <td>2.000000</td>\n",
       "      <td>0.000000</td>\n",
       "      <td>1.728750</td>\n",
       "    </tr>\n",
       "    <tr>\n",
       "      <th>50%</th>\n",
       "      <td>4997.500000</td>\n",
       "      <td>56430.500000</td>\n",
       "      <td>54.490000</td>\n",
       "      <td>3.000000</td>\n",
       "      <td>0.200000</td>\n",
       "      <td>8.666500</td>\n",
       "    </tr>\n",
       "    <tr>\n",
       "      <th>75%</th>\n",
       "      <td>7495.750000</td>\n",
       "      <td>90008.000000</td>\n",
       "      <td>209.940000</td>\n",
       "      <td>5.000000</td>\n",
       "      <td>0.200000</td>\n",
       "      <td>29.364000</td>\n",
       "    </tr>\n",
       "    <tr>\n",
       "      <th>max</th>\n",
       "      <td>9994.000000</td>\n",
       "      <td>99301.000000</td>\n",
       "      <td>22638.480000</td>\n",
       "      <td>14.000000</td>\n",
       "      <td>0.800000</td>\n",
       "      <td>8399.976000</td>\n",
       "    </tr>\n",
       "  </tbody>\n",
       "</table>\n",
       "</div>"
      ],
      "text/plain": [
       "            Row ID   Postal Code         Sales     Quantity     Discount  \\\n",
       "count  9994.000000   9994.000000   9994.000000  9994.000000  9994.000000   \n",
       "mean   4997.500000  55190.379428    229.858001     3.789574     0.156203   \n",
       "std    2885.163629  32063.693350    623.245101     2.225110     0.206452   \n",
       "min       1.000000   1040.000000      0.444000     1.000000     0.000000   \n",
       "25%    2499.250000  23223.000000     17.280000     2.000000     0.000000   \n",
       "50%    4997.500000  56430.500000     54.490000     3.000000     0.200000   \n",
       "75%    7495.750000  90008.000000    209.940000     5.000000     0.200000   \n",
       "max    9994.000000  99301.000000  22638.480000    14.000000     0.800000   \n",
       "\n",
       "            Profit  \n",
       "count  9994.000000  \n",
       "mean     28.656896  \n",
       "std     234.260108  \n",
       "min   -6599.978000  \n",
       "25%       1.728750  \n",
       "50%       8.666500  \n",
       "75%      29.364000  \n",
       "max    8399.976000  "
      ]
     },
     "execution_count": 14,
     "metadata": {},
     "output_type": "execute_result"
    }
   ],
   "source": [
    "df.describe()"
   ]
  },
  {
   "cell_type": "markdown",
   "id": "2d5419d5-7bf5-4e74-9b01-820a320b9f35",
   "metadata": {},
   "source": [
    "#### 2. Data Cleaning (20 pts)"
   ]
  },
  {
   "cell_type": "markdown",
   "id": "f0bdfa9a-ac2b-48da-a1ae-1be66bf6aae6",
   "metadata": {},
   "source": [
    "###### How about handling missing values?\n",
    "\n",
    "\n",
    "First, check if there are any missing values in the data set using the .isnull() function and you find a value that indicates that missing values exist, either drop the row/column completely or consider replacing the 'NAN'."
   ]
  },
  {
   "cell_type": "code",
   "execution_count": 15,
   "id": "79fcd060-0313-4b4a-bc5a-7e432e315315",
   "metadata": {},
   "outputs": [
    {
     "name": "stdout",
     "output_type": "stream",
     "text": [
      "0\n"
     ]
    }
   ],
   "source": [
    "print(df.isnull().sum().sum())"
   ]
  },
  {
   "cell_type": "markdown",
   "id": "fb5e7d15-b737-4ddf-ac87-29752d5674dd",
   "metadata": {},
   "source": [
    "Converting the 'Order Date' to the datetime formatt requires the use of the datetime python library so, let's first import it into our jupyter notebook.\n",
    "\n",
    "We will also be calling the .to_datetime() method with the ['Order Date'] column to correctly update the previous format to the specified formatting. By decalring this value to the df['Order Date'], we are ensuring that this only impacts this specific column and nothing else."
   ]
  },
  {
   "cell_type": "code",
   "execution_count": 16,
   "id": "99c9ca3a-03d7-412a-a0c5-f5eea0311c2b",
   "metadata": {},
   "outputs": [],
   "source": [
    "import datetime\n",
    "\n",
    "df['Order Date'] = pd.to_datetime(df['Order Date'], format = 'mixed')"
   ]
  },
  {
   "cell_type": "markdown",
   "id": "763749ad-93d8-4e9b-9fc6-866e8989230c",
   "metadata": {},
   "source": [
    "###### What if we wanted to check for any duplicates that may exist in the data set?\n",
    "\n",
    "Simply call the .duplicated() method to see if such values exist, while at it, lets create a data frame to capture these duplicates.\n",
    "As you can see, no duplicates exist in this data set.\n"
   ]
  },
  {
   "cell_type": "code",
   "execution_count": 17,
   "id": "e11fd971-4650-485c-b89a-fea61c27ab8b",
   "metadata": {
    "scrolled": true
   },
   "outputs": [
    {
     "name": "stdout",
     "output_type": "stream",
     "text": [
      "Empty DataFrame\n",
      "Columns: [Row ID, Order ID, Order Date, Ship Date, Ship Mode, Customer ID, Customer Name, Segment, Country, City, State, Postal Code, Region, Product ID, Category, Sub-Category, Product Name, Sales, Quantity, Discount, Profit]\n",
      "Index: []\n",
      "\n",
      "[0 rows x 21 columns]\n"
     ]
    }
   ],
   "source": [
    "print(df[df.duplicated()])"
   ]
  },
  {
   "cell_type": "markdown",
   "id": "bcf04bf9-73a4-49dc-9c41-4c7345375d91",
   "metadata": {},
   "source": [
    "Interested in creating a new column to capture the 'Profit Margin' for each order?\n",
    "\n",
    "Initiallize the new column by writing the expression to evaluate such information with the help of the 'Profit' and 'Sales' columns."
   ]
  },
  {
   "cell_type": "code",
   "execution_count": 18,
   "id": "151dfea3-fb4d-4160-a19d-e16297a23c07",
   "metadata": {},
   "outputs": [],
   "source": [
    "df['Profit Margin'] = ((df['Profit'] / df['Sales']) * 100)"
   ]
  },
  {
   "cell_type": "markdown",
   "id": "323bf1d1-cb85-4b95-8075-a00eb8d6559b",
   "metadata": {},
   "source": [
    "#### 3. Exploratory Data Analysis (EDA) (30 pts)"
   ]
  },
  {
   "cell_type": "markdown",
   "id": "fafe712d-56f1-498d-a112-443c17af2265",
   "metadata": {},
   "source": [
    "##### Basic Analysis"
   ]
  },
  {
   "cell_type": "markdown",
   "id": "b96962a2-ef11-4751-bd45-98290d05a7a5",
   "metadata": {},
   "source": [
    "###### Which category (Furniture, Office Supplies, Technology) is most profitable?\n",
    "\n",
    "Using the groupby() in which we filter by'Category' taking into consideration the amount of 'Profit' earned in total for each respected category by summing it all together and then displaying the top earner: Technology."
   ]
  },
  {
   "cell_type": "code",
   "execution_count": 19,
   "id": "e6743f52-96a6-4a87-a056-0c8f7eb10312",
   "metadata": {},
   "outputs": [
    {
     "data": {
      "text/plain": [
       "Category\n",
       "Technology    145454.9481\n",
       "Name: Profit, dtype: float64"
      ]
     },
     "execution_count": 19,
     "metadata": {},
     "output_type": "execute_result"
    }
   ],
   "source": [
    "df.groupby('Category')['Profit'].sum().nlargest(1)"
   ]
  },
  {
   "cell_type": "markdown",
   "id": "ae496613-a744-4088-a59b-aed9a1ef007b",
   "metadata": {},
   "source": [
    "###### Which region has the highest sales?\n",
    "Same steps apply to finding out which region made the most sales, this time filtering by 'Region' taking into consideration the sum of the 'Sales' to then display the highest earner: West."
   ]
  },
  {
   "cell_type": "code",
   "execution_count": 20,
   "id": "42a1c42a-fe6c-45b8-b35c-3b4d9a1be152",
   "metadata": {
    "scrolled": true
   },
   "outputs": [
    {
     "data": {
      "text/plain": [
       "Region\n",
       "West    725457.8245\n",
       "Name: Sales, dtype: float64"
      ]
     },
     "execution_count": 20,
     "metadata": {},
     "output_type": "execute_result"
    }
   ],
   "source": [
    "df.groupby('Region')['Sales'].sum().nlargest(1)"
   ]
  },
  {
   "cell_type": "markdown",
   "id": "3882206b-373b-49c0-8617-8be7323db4b0",
   "metadata": {},
   "source": [
    "###### What is the average discount per category?\n",
    "\n",
    "Wanting to find the average discount based on 'Category' simply use the groupby() function to filter by category and apply the .mean() function for the ['Discount'] column."
   ]
  },
  {
   "cell_type": "code",
   "execution_count": 21,
   "id": "f44a23b4-51a2-4534-9007-3f4c3de3a3c8",
   "metadata": {},
   "outputs": [
    {
     "data": {
      "text/plain": [
       "Category\n",
       "Furniture          0.173923\n",
       "Office Supplies    0.157285\n",
       "Technology         0.132323\n",
       "Name: Discount, dtype: float64"
      ]
     },
     "execution_count": 21,
     "metadata": {},
     "output_type": "execute_result"
    }
   ],
   "source": [
    "df.groupby('Category')['Discount'].mean()"
   ]
  },
  {
   "cell_type": "markdown",
   "id": "3560aa37-83dd-42cc-978a-8bd16ad14599",
   "metadata": {},
   "source": [
    "##### Time-Based Analysis"
   ]
  },
  {
   "cell_type": "markdown",
   "id": "13c53158-7fab-4bc8-abaa-a1fb0efc24a9",
   "metadata": {},
   "source": [
    "How about plotting the monthly sales trend?\n",
    "\n",
    "First, import matplotlib.pyplot to allow us to create graphs, diagrams, or visualizations for our data.\n",
    "\n",
    "Afterwards, let's create a ['Month'] column to better sort order dates by their respective months and years to plot this information as accurately as we can. As you can see, we apply the .to_period() function to filter out the data and sum it all together to initialize a new data frame under the variable name, monthly_sales.\n",
    "\n",
    "Lastly, plot this monthly_sales specifiying for a line graph with an appropriate title and lables for the x-axis and y-axixs.\n"
   ]
  },
  {
   "cell_type": "code",
   "execution_count": 25,
   "id": "41e6aacc-213b-4dca-b972-2bdcf458aebe",
   "metadata": {},
   "outputs": [
    {
     "data": {
      "text/plain": [
       "<Axes: title={'center': 'Monthly Sales Trend'}, xlabel='Month', ylabel='Total Sales'>"
      ]
     },
     "execution_count": 25,
     "metadata": {},
     "output_type": "execute_result"
    },
    {
     "data": {
      "image/png": "[encoded data removed]",
      "text/plain": [
       "<Figure size 1000x500 with 1 Axes>"
      ]
     },
     "metadata": {},
     "output_type": "display_data"
    }
   ],
   "source": [
    "import matplotlib.pyplot as plt\n",
    "\n",
    "df['Month'] = df['Order Date'].dt.to_period('M')\n",
    "monthly_sales = df.groupby('Month')['Sales'].sum()\n",
    "\n",
    "monthly_sales.plot(kind='line', title='Monthly Sales Trend', ylabel='Total Sales', xlabel='Month', figsize=(10,5))\n"
   ]
  },
  {
   "cell_type": "markdown",
   "id": "25ce9c3c-7606-454b-bc0c-24410f497ca9",
   "metadata": {},
   "source": [
    "###### Identify the best/worst months for profit.\n",
    "\n",
    "Considering how we have a ['Month'] column that would allow us to filter by ['Sales'] for each period, just apply the .sum() function to then filter by the .nlargest() to filter the top 3 most profitable months and their respective years.\n",
    "\n",
    "Same can be done for the .nsmallest() to find the 3 least profitable months."
   ]
  },
  {
   "cell_type": "code",
   "execution_count": 23,
   "id": "08bf8b61-2d4b-460f-b975-d12992f9b8fa",
   "metadata": {},
   "outputs": [
    {
     "data": {
      "text/plain": [
       "Month\n",
       "2017-11    118447.825\n",
       "2016-12     96999.043\n",
       "2017-09     87866.652\n",
       "Freq: M, Name: Sales, dtype: float64"
      ]
     },
     "execution_count": 23,
     "metadata": {},
     "output_type": "execute_result"
    }
   ],
   "source": [
    "df.groupby('Month')['Sales'].sum().nlargest(3)"
   ]
  },
  {
   "cell_type": "code",
   "execution_count": 24,
   "id": "4eb2b0e7-6ef1-4195-a2f5-473c78b79463",
   "metadata": {},
   "outputs": [
    {
     "data": {
      "text/plain": [
       "Month\n",
       "2014-02     4519.892\n",
       "2015-02    11951.411\n",
       "2014-01    14236.895\n",
       "Freq: M, Name: Sales, dtype: float64"
      ]
     },
     "execution_count": 24,
     "metadata": {},
     "output_type": "execute_result"
    }
   ],
   "source": [
    "df.groupby('Month')['Sales'].sum().nsmallest(3)"
   ]
  },
  {
   "cell_type": "markdown",
   "id": "d7a24ade-c316-4e41-8999-053405a707da",
   "metadata": {},
   "source": [
    "###### Does higher discounting lead to higher sales? (Scatter plot: Discount vs. Sales)\n",
    "\n",
    "###### YES, \n",
    "higher discounting means higher sales as demonstrated by the positive correlation.\n",
    "\n",
    "\n",
    "To create this scatter plot, import matplotlib,pyplot as before, create a new data fram that would allow us to group the monthly sales and discounts to then create the scatter plot with."
   ]
  },
  {
   "cell_type": "code",
   "execution_count": 42,
   "id": "cf2b1aac-1ec4-4090-9cfe-ddf88e9f5d1a",
   "metadata": {},
   "outputs": [
    {
     "data": {
      "image/png": "[encoded data removed]",
      "text/plain": [
       "<Figure size 1000x500 with 1 Axes>"
      ]
     },
     "metadata": {},
     "output_type": "display_data"
    }
   ],
   "source": [
    "import matplotlib.pyplot as plt\n",
    "\n",
    "# Create a new DataFrame that combines both\n",
    "monthly_summary = pd.DataFrame({\n",
    "    'Sales': df.groupby('Month')['Sales'].sum(),\n",
    "    'Discount': df.groupby('Month')['Discount'].sum()\n",
    "})\n",
    "\n",
    "# Now plot scatter plot: x = Discount, y = Sales\n",
    "monthly_summary.plot(kind='scatter', x='Discount', y='Sales',\n",
    "                     title='Discount vs Sales Correlation',\n",
    "                     figsize=(10, 5))\n",
    "\n",
    "plt.xlabel('Total Discount')\n",
    "plt.ylabel('Total Sales')\n",
    "plt.grid(True)\n",
    "plt.show()\n"
   ]
  },
  {
   "cell_type": "markdown",
   "id": "cca84a77-16bd-497c-a592-2ffcbaa27b37",
   "metadata": {},
   "source": [
    "##### Customer Analysis"
   ]
  },
  {
   "cell_type": "markdown",
   "id": "fddf0240-8053-4fde-94a6-59e07c0a99ef",
   "metadata": {},
   "source": [
    "###### Who are the top 5 most profitable customers?\n",
    "\n",
    "By applying the groubby() function to sort by 'Customer Name' to focus on the ['Profit'] column to then apply the .sum() as well as the .nlargest() for the top 5 customers, we are given this answer below."
   ]
  },
  {
   "cell_type": "code",
   "execution_count": 39,
   "id": "a3b332c8-d407-46e6-a492-604edc75dd10",
   "metadata": {},
   "outputs": [
    {
     "data": {
      "text/plain": [
       "Customer Name\n",
       "Tamara Chand     8981.3239\n",
       "Raymond Buch     6976.0959\n",
       "Sanjit Chand     5757.4119\n",
       "Hunter Lopez     5622.4292\n",
       "Adrian Barton    5444.8055\n",
       "Name: Profit, dtype: float64"
      ]
     },
     "execution_count": 39,
     "metadata": {},
     "output_type": "execute_result"
    }
   ],
   "source": [
    "df.groupby('Customer Name')['Profit'].sum().nlargest(5)"
   ]
  },
  {
   "cell_type": "markdown",
   "id": "bb5142ca-4128-42d9-9a83-722d6c3132c7",
   "metadata": {},
   "source": [
    "###### Which ship mode (Standard, Express, etc.) is most commonly used?\n",
    "\n",
    "Similarly, we can apply the .value_counts() to count the number of elements that exist in each ['Ship Mode'] to then use the .head() to display the most used ship mode which is 'Standard Class'."
   ]
  },
  {
   "cell_type": "code",
   "execution_count": 52,
   "id": "39168051-bbe5-4bd0-8391-203e9a05bc9d",
   "metadata": {},
   "outputs": [
    {
     "data": {
      "text/plain": [
       "Ship Mode\n",
       "Standard Class    5968\n",
       "Name: count, dtype: int64"
      ]
     },
     "execution_count": 52,
     "metadata": {},
     "output_type": "execute_result"
    }
   ],
   "source": [
    "df['Ship Mode'].value_counts().head(1)"
   ]
  },
  {
   "cell_type": "markdown",
   "id": "b1fcb4b0-f556-4a09-bdd0-b3daa52bf27e",
   "metadata": {},
   "source": [
    "### Part B: Advanced Data Mining (20 pts)"
   ]
  },
  {
   "cell_type": "markdown",
   "id": "521f5a29-e398-4bdd-8c43-032892f25ae9",
   "metadata": {},
   "source": [
    "#### 4. Data Mining (20 pts)"
   ]
  },
  {
   "cell_type": "markdown",
   "id": "9bb40999-2490-4de6-8053-d124651acf39",
   "metadata": {},
   "source": [
    "##### Correlation Analysis:\n",
    "###### Is there a relationship between Sales, Quantity, and Profit? (df.corr())\n",
    "\n",
    "Moderatley positive correlation between quantity and profit suggests that selling more units leads to an increase in profits.\n",
    "\n",
    "Moderately poisitive correlation between profit and sales suggest that sales does have a somewhat strong impact on profit increases.\n",
    "\n",
    "Low correlation between sales and quantity suggests that they do not directly impact each other."
   ]
  },
  {
   "cell_type": "code",
   "execution_count": 54,
   "id": "b924f09e-bd11-4415-87f2-bbb8bb20137e",
   "metadata": {},
   "outputs": [
    {
     "data": {
      "text/html": [
       "<div>\n",
       "<style scoped>\n",
       "    .dataframe tbody tr th:only-of-type {\n",
       "        vertical-align: middle;\n",
       "    }\n",
       "\n",
       "    .dataframe tbody tr th {\n",
       "        vertical-align: top;\n",
       "    }\n",
       "\n",
       "    .dataframe thead th {\n",
       "        text-align: right;\n",
       "    }\n",
       "</style>\n",
       "<table border=\"1\" class=\"dataframe\">\n",
       "  <thead>\n",
       "    <tr style=\"text-align: right;\">\n",
       "      <th></th>\n",
       "      <th>Sales</th>\n",
       "      <th>Quantity</th>\n",
       "      <th>Profit</th>\n",
       "    </tr>\n",
       "  </thead>\n",
       "  <tbody>\n",
       "    <tr>\n",
       "      <th>Sales</th>\n",
       "      <td>1.000000</td>\n",
       "      <td>0.200795</td>\n",
       "      <td>0.479064</td>\n",
       "    </tr>\n",
       "    <tr>\n",
       "      <th>Quantity</th>\n",
       "      <td>0.200795</td>\n",
       "      <td>1.000000</td>\n",
       "      <td>0.066253</td>\n",
       "    </tr>\n",
       "    <tr>\n",
       "      <th>Profit</th>\n",
       "      <td>0.479064</td>\n",
       "      <td>0.066253</td>\n",
       "      <td>1.000000</td>\n",
       "    </tr>\n",
       "  </tbody>\n",
       "</table>\n",
       "</div>"
      ],
      "text/plain": [
       "             Sales  Quantity    Profit\n",
       "Sales     1.000000  0.200795  0.479064\n",
       "Quantity  0.200795  1.000000  0.066253\n",
       "Profit    0.479064  0.066253  1.000000"
      ]
     },
     "execution_count": 54,
     "metadata": {},
     "output_type": "execute_result"
    }
   ],
   "source": [
    "df[['Sales', 'Quantity', 'Profit']].corr()"
   ]
  },
  {
   "cell_type": "markdown",
   "id": "5100a0a5-f17a-4e67-a419-a25b09bbef57",
   "metadata": {},
   "source": [
    "##### Anomaly Detection:\n",
    "###### Find orders with unusually high Profit Margin (>50%) or losses (Profit < 0).\n",
    "\n",
    "Using the ['Profit Margin'] column that we created before, we initialize a new data frame that filters it by checking that the profit margin > 50%. We also initialize another data frame to evaluate the losses in the ['Profit'] column.\n",
    "\n",
    "Afterwards, we print the length of both cases as seen below."
   ]
  },
  {
   "cell_type": "code",
   "execution_count": 83,
   "id": "ca7ce649-f6de-4f51-b61e-8b60a3df327d",
   "metadata": {},
   "outputs": [
    {
     "name": "stdout",
     "output_type": "stream",
     "text": [
      "High Margin Orders: 8058\n",
      "Loss-making Orders: 1871\n"
     ]
    }
   ],
   "source": [
    "df['Profit Margin'] = ((df['Profit'] / df['Sales']) * 100)\n",
    "\n",
    "# High profit margin (> 50%)\n",
    "high_margin = df[df['Profit Margin'] > 0.5]\n",
    "\n",
    "# Orders with a loss (negative profit)\n",
    "losses = df[df['Profit'] < 0]\n",
    "\n",
    "print(\"High Margin Orders:\", len(high_margin))\n",
    "print(\"Loss-making Orders:\", len(losses))"
   ]
  },
  {
   "cell_type": "markdown",
   "id": "186ccd10-e698-4446-b71c-4729a3164623",
   "metadata": {},
   "source": [
    "##### Segmentation:\n",
    "###### Group customers by Sales (High, Medium, Low) using quantiles.\n",
    "\n",
    "In this case we initialize a new data frame called 'customer_sales' that groupsby() 'Customer ID' and 'Customer Name' to colllect the .sum() of the ['Sales'] column.\n",
    "\n",
    "We then define the quantile and create a function to properly segment these cutomers sorting them by 'Low', 'Medium', or 'High'.\n",
    "\n",
    "'customer_segments' will display these segmentations once we .apply() the function to the 'customer_sales' data frame."
   ]
  },
  {
   "cell_type": "code",
   "execution_count": 76,
   "id": "3b41770d-8876-44d5-895b-7971bc757583",
   "metadata": {},
   "outputs": [
    {
     "name": "stdout",
     "output_type": "stream",
     "text": [
      "Customer ID  Customer Name     \n",
      "AA-10315     Alex Avila              High\n",
      "AA-10375     Allen Armold             Low\n",
      "AA-10480     Andrew Allen          Medium\n",
      "AA-10645     Anna Andreadi           High\n",
      "AB-10015     Aaron Bergman            Low\n",
      "                                    ...  \n",
      "XP-21865     Xylona Preis          Medium\n",
      "YC-21895     Yoseph Carroll          High\n",
      "YS-21880     Yana Sorensen           High\n",
      "ZC-21910     Zuschuss Carroll        High\n",
      "ZD-21925     Zuschuss Donatelli    Medium\n",
      "Name: Sales, Length: 793, dtype: object\n"
     ]
    }
   ],
   "source": [
    "customer_sales = df.groupby(['Customer ID', 'Customer Name'])['Sales'].sum()\n",
    "\n",
    "q1 = customer_sales.quantile(0.25)  # 25th percentile\n",
    "q3 = customer_sales.quantile(0.75)  # 75th percentile\n",
    "\n",
    "def segment_customer(sales):\n",
    "    if sales <= q1:\n",
    "        return 'Low'\n",
    "    elif sales <= q3:\n",
    "        return 'Medium'\n",
    "    else:\n",
    "        return 'High'\n",
    "\n",
    "customer_segments = customer_sales.apply(segment_customer)\n",
    "\n",
    "print(customer_segments)"
   ]
  }
 ],
 "metadata": {
  "kernelspec": {
   "display_name": "Python 3 (ipykernel)",
   "language": "python",
   "name": "python3"
  },
  "language_info": {
   "codemirror_mode": {
    "name": "ipython",
    "version": 3
   },
   "file_extension": ".py",
   "mimetype": "text/x-python",
   "name": "python",
   "nbconvert_exporter": "python",
   "pygments_lexer": "ipython3",
   "version": "3.13.1"
  }
 },
 "nbformat": 4,
 "nbformat_minor": 5
}
